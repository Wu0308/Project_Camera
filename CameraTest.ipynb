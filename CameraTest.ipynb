{
 "cells": [
  {
   "cell_type": "code",
   "execution_count": 1,
   "id": "09307cab-1460-4830-8f1f-dc1d6cb089bd",
   "metadata": {},
   "outputs": [
    {
     "name": "stdout",
     "output_type": "stream",
     "text": [
      "dsds\n"
     ]
    }
   ],
   "source": [
    "print(\"dsds\")"
   ]
  },
  {
   "cell_type": "code",
   "execution_count": 11,
   "id": "18fd1323-8f3f-4297-a8c2-9221cf1711b7",
   "metadata": {},
   "outputs": [],
   "source": [
    "import cv2\n",
    "cap = cv2.VideoCapture(0)\n",
    "if not cap.isOpened():\n",
    "    print(\"Cannot open camera\")\n",
    "    exit()\n",
    "while True:\n",
    "    ret, frame = cap.read()             # 讀取影片的每一幀\n",
    "    if not ret:\n",
    "        print(\"Cannot receive frame\")   # 如果讀取錯誤，印出訊息\n",
    "        break\n",
    "    gray = cv2.cvtColor(frame, cv2.COLOR_BGR2GRAY)\n",
    "    cv2.imshow('Camera Test', frame)  # 如果讀取成功，顯示該幀的畫面\n",
    "    cv2.imshow('Camera Test (Gray)', gray) # 灰階影片\n",
    "    if cv2.waitKey(1) == ord('q'):      # 每一毫秒更新一次，直到按下 q 結束\n",
    "        break\n",
    "cap.release()                           # 所有作業都完成後，釋放資源\n",
    "cv2.destroyAllWindows()    "
   ]
  },
  {
   "cell_type": "code",
   "execution_count": 3,
   "id": "f621b99c-748a-4d8f-b7d7-b19c388306b2",
   "metadata": {},
   "outputs": [
    {
     "name": "stderr",
     "output_type": "stream",
     "text": [
      "<>:3: SyntaxWarning: invalid escape sequence '\\P'\n",
      "<>:4: SyntaxWarning: invalid escape sequence '\\P'\n",
      "<>:3: SyntaxWarning: invalid escape sequence '\\P'\n",
      "<>:4: SyntaxWarning: invalid escape sequence '\\P'\n",
      "C:\\Users\\b2152\\AppData\\Local\\Temp\\ipykernel_33976\\2518217582.py:3: SyntaxWarning: invalid escape sequence '\\P'\n",
      "  face_cascade = cv2.CascadeClassifier(\"F:\\Python\\Python3.12\\Lib\\site-packages\\cv2\\data\\haarcascade_frontalface_default.xml\")#偵測臉部\n",
      "C:\\Users\\b2152\\AppData\\Local\\Temp\\ipykernel_33976\\2518217582.py:4: SyntaxWarning: invalid escape sequence '\\P'\n",
      "  eyeglasses_cascade = cv2.CascadeClassifier(\"F:\\Python\\Python3.12\\Lib\\site-packages\\cv2\\data\\haarcascade_eye_tree_eyeglasses.xml\")#偵測眼睛\n"
     ]
    }
   ],
   "source": [
    "import cv2\n",
    "cap = cv2.VideoCapture(0)\n",
    "face_cascade = cv2.CascadeClassifier(\"F:\\Python\\Python3.12\\Lib\\site-packages\\cv2\\data\\haarcascade_frontalface_default.xml\")#偵測臉部\n",
    "eyeglasses_cascade = cv2.CascadeClassifier(\"F:\\Python\\Python3.12\\Lib\\site-packages\\cv2\\data\\haarcascade_eye_tree_eyeglasses.xml\")#偵測眼睛\n",
    "\n",
    "if not cap.isOpened():\n",
    "    print(\"Cannot open camera\")\n",
    "    exit()\n",
    "while True:\n",
    "    ret, frame = cap.read()\n",
    "    if not ret:\n",
    "        print(\"Cannot receive frame\")\n",
    "        break\n",
    "    frame = cv2.resize(frame,(720,600))              # 縮小尺寸，避免尺寸過大導致效能不好\n",
    "    gray = cv2.cvtColor(frame, cv2.COLOR_BGR2GRAY)   # 將鏡頭影像轉換成灰階\n",
    "    faces = face_cascade.detectMultiScale(gray)      # 偵測人臉\n",
    "    for (x, y, w, h) in faces:\n",
    "        cv2.rectangle(frame, (x, y), (x+w, y+h), (0, 255, 0), 2)   # 標記人臉\n",
    "        roi_gray = gray[y:y + h, x:x + w]\n",
    "        roi_color = frame[y:y + h, x:x + w]\n",
    "        \n",
    "        # 在人臉區域內偵測眼睛\n",
    "        eyes = eyeglasses_cascade.detectMultiScale(roi_gray)\n",
    "        for (ex, ey, ew, eh) in eyes:\n",
    "            cv2.rectangle(roi_color, (ex, ey), (ex + ew, ey + eh), (0, 0, 255), 2)\n",
    "\n",
    "    \n",
    "    cv2.imshow('CameraTest', frame)\n",
    "    if cv2.waitKey(1) == ord('q'):\n",
    "        break\n",
    "cap.release()\n",
    "cv2.destroyAllWindows()"
   ]
  },
  {
   "cell_type": "code",
   "execution_count": 2,
   "id": "76d0835b-c427-4241-b974-af00db98410a",
   "metadata": {},
   "outputs": [],
   "source": [
    "import cv2\n",
    "\n",
    "# 開啟攝影機\n",
    "cap = cv2.VideoCapture(0)\n",
    "fgbg = cv2.createBackgroundSubtractorMOG2()#偵測和背景不一致的移動物體\n",
    "\n",
    "while True:\n",
    "    ret, frame = cap.read()\n",
    "    if not ret:\n",
    "        break\n",
    "    \n",
    "    # 應用背景減除\n",
    "    fgmask = fgbg.apply(frame)\n",
    "    \n",
    "    # 顯示影像\n",
    "    cv2.imshow('Frame', frame)\n",
    "    cv2.imshow('Foreground Mask', fgmask)\n",
    "\n",
    "    if cv2.waitKey(30) & 0xFF == 27:  # 按下ESC鍵退出\n",
    "        break\n",
    "\n",
    "cap.release()\n",
    "cv2.destroyAllWindows()\n"
   ]
  },
  {
   "cell_type": "code",
   "execution_count": 13,
   "id": "b391f1fe-736b-4cad-b274-6fe64959c1b2",
   "metadata": {},
   "outputs": [],
   "source": [
    "import cv2\n",
    "\n",
    "# 開啟攝影機\n",
    "cap = cv2.VideoCapture(0)\n",
    "\n",
    "# 創建背景減除器\n",
    "fgbg = cv2.createBackgroundSubtractorMOG2(history=60, varThreshold=16, detectShadows=True)#history記錄過去x幀的畫面，越小代表更新速度越快\n",
    "\n",
    "while True:\n",
    "    ret, frame = cap.read()\n",
    "    if not ret:\n",
    "        break\n",
    "\n",
    "    # 轉換成灰階圖片以提高處理速度\n",
    "    gray = cv2.cvtColor(frame, cv2.COLOR_BGR2GRAY)\n",
    "    \n",
    "    # 應用背景減除\n",
    "    fgmask = fgbg.apply(gray)\n",
    "    \n",
    "    # 對背景減除結果進行去雜訊處理\n",
    "    kernel = cv2.getStructuringElement(cv2.MORPH_ELLIPSE, (5, 5))\n",
    "    fgmask = cv2.morphologyEx(fgmask, cv2.MORPH_OPEN, kernel)\n",
    "    \n",
    "    # 偵測移動物體的輪廓\n",
    "    contours, _ = cv2.findContours(fgmask, cv2.RETR_EXTERNAL, cv2.CHAIN_APPROX_SIMPLE)\n",
    "    \n",
    "    # 畫出每個偵測到的移動物體的方框\n",
    "    for cnt in contours:\n",
    "        # 忽略過小的輪廓（雜訊）\n",
    "        if cv2.contourArea(cnt) > 1000:\n",
    "            x, y, w, h = cv2.boundingRect(cnt)\n",
    "            cv2.rectangle(frame, (x, y), (x+w, y+h), (0, 255, 0), 2)\n",
    "    \n",
    "    # 顯示結果\n",
    "    cv2.imshow('Frame', frame)\n",
    "    cv2.imshow('Foreground Mask', fgmask)\n",
    "\n",
    "    if cv2.waitKey(30) & 0xFF == 27:  # 按下 ESC 鍵退出\n",
    "        break\n",
    "\n",
    "# 釋放攝影機資源並關閉視窗\n",
    "cap.release()\n",
    "cv2.destroyAllWindows()\n"
   ]
  },
  {
   "cell_type": "code",
   "execution_count": null,
   "id": "3ddc8994-b8a9-4e93-a81c-a8f90c443e5c",
   "metadata": {},
   "outputs": [],
   "source": []
  }
 ],
 "metadata": {
  "kernelspec": {
   "display_name": "Python 3 (ipykernel)",
   "language": "python",
   "name": "python3"
  },
  "language_info": {
   "codemirror_mode": {
    "name": "ipython",
    "version": 3
   },
   "file_extension": ".py",
   "mimetype": "text/x-python",
   "name": "python",
   "nbconvert_exporter": "python",
   "pygments_lexer": "ipython3",
   "version": "3.12.6"
  }
 },
 "nbformat": 4,
 "nbformat_minor": 5
}
